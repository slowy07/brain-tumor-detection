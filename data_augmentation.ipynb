{
  "nbformat": 4,
  "nbformat_minor": 0,
  "metadata": {
    "colab": {
      "name": "data_augmentation.ipynb",
      "provenance": [],
      "collapsed_sections": []
    },
    "kernelspec": {
      "name": "python3",
      "display_name": "Python 3"
    },
    "language_info": {
      "name": "python"
    }
  },
  "cells": [
    {
      "cell_type": "code",
      "metadata": {
        "id": "Mx2XUpPGIGbF"
      },
      "source": [
        "import tensorflow as tf\n",
        "from keras.preprocessing.image import ImageDataGenerator\n",
        "import cv2\n",
        "import imutils\n",
        "import matplotlib.pyplot as plt\n",
        "from os import listdir\n",
        "import time    \n",
        "\n",
        "%matplotlib inline"
      ],
      "execution_count": null,
      "outputs": []
    },
    {
      "cell_type": "code",
      "metadata": {
        "id": "_Wzy5c5jIWYK"
      },
      "source": [
        "def hms_string(sec_elapsed):\n",
        "    hour = int(sec_elapsed / (60 * 60))\n",
        "    minute = int((sec_elapsed % (60 * 60)) / 60)\n",
        "    second = sec_elapsed % 60\n",
        "    return f\"{h}:{m}:{round(s,1)}\""
      ],
      "execution_count": null,
      "outputs": []
    },
    {
      "cell_type": "code",
      "metadata": {
        "id": "5F-AZrS6IxUq"
      },
      "source": [
        "def augment_data(file_dit, n_generated_samples, save_to_dir):\n",
        "  \"\"\"\n",
        "    Arguments:\n",
        "        file_dir: A string representing the directory where images that we want to augment are found.\n",
        "        n_generated_samples: A string representing the number of generated samples using the given image.\n",
        "        save_to_dir: A string representing the directory in which the generated images will be saved.\n",
        "  \"\"\"\n",
        "  data_generator = ImageDataGenerator(rotation_range = 10, width_shift_range = 0.1, height_shift_range = 0.1, \n",
        "                                      shear_range = 0.1, brightness_range = (0.3, 1.0), horizontal_flip = True,\n",
        "                                      vertical_flip = True, fill_mode = 'nearest')\n",
        "  \n",
        "  for filename in listdir(file_dir):\n",
        "    image = cv2.imread(file_dir + '\\\\' + filename)\n",
        "    image = image.reshape((1,) + image.shape)\n",
        "    save_prefix = 'aug_' + filename[:-4]\n",
        "    i = 0\n",
        "    for batch in data_gen.flow(x = image, batch_size = 1, save_to_dir = save_to_dir,\n",
        "                               save_prefix = save_prefix, save_format = 'jpg'):\n",
        "      i += 1\n",
        "      if i > n_generated_samples:\n",
        "        break  "
      ],
      "execution_count": null,
      "outputs": []
    },
    {
      "cell_type": "markdown",
      "metadata": {
        "id": "vOTofGmqLAzk"
      },
      "source": [
        "61% data ( 155 images ) are tumorous and 39% of the data ( 98 images ) are non - tumorous. so, in order to balance the data we can generate 9 new images for every image that belongs to 'no' class and 6 images for every image that belongs the 'yes' class"
      ]
    },
    {
      "cell_type": "code",
      "metadata": {
        "id": "hEKc9GOZLVp5"
      },
      "source": [
        "start_time  = time.time()\n",
        "augmented_data_path = 'augmented_data/'\n",
        "\n",
        "augment_data(file_dir = yes_path, n_generated_samples = 6, save_to_dir = augmented_data_path + 'yes')\n",
        "augment_data(file_dir = no_path, n_generated_samples = 9, save_to_dir = augmented_data_path + 'no')\n",
        "\n",
        "end_time = time.time()\n",
        "execution_time = (end_time - start_time)\n",
        "print(f\"time : {hms_string(execution_time)}\")"
      ],
      "execution_count": null,
      "outputs": []
    },
    {
      "cell_type": "markdown",
      "metadata": {
        "id": "rh-50P0WNn3p"
      },
      "source": [
        "time : 0:16:12.3\n",
        "\n",
        "how many tumorous and non-tumorous example after performing data augmentation"
      ]
    },
    {
      "cell_type": "code",
      "metadata": {
        "id": "MUoH-gwLN_K4"
      },
      "source": [
        "def data_summary(main_path):\n",
        "  yes_path = main_path + 'yes'\n",
        "  no_path = main_path + 'no'\n",
        "  m_pos = len(list_dir(yes_path))\n",
        "  m_neg = len(list_dir(no_path))\n",
        "\n",
        "  # number of all examples\n",
        "  m = (m_pos + m_neg)\n",
        "\n",
        "  pos_prec = (m_pos * 100.0) / m\n",
        "  neg_prec = (m_neg * 100.0) / m\n",
        "\n",
        "  print(f\"number of examples : {m}\")\n",
        "  print(f\"number of positive examples : {pros_prec} %, number of examples : {m_pos}\")\n",
        "  print(f\"number of negative examples : {neg_prec} %, number of examples : {m_neg}\")"
      ],
      "execution_count": null,
      "outputs": []
    },
    {
      "cell_type": "code",
      "metadata": {
        "id": "C37AmUD46Smo"
      },
      "source": [
        "data_summary(augmented_data_path)"
      ],
      "execution_count": null,
      "outputs": []
    },
    {
      "cell_type": "markdown",
      "metadata": {
        "id": "S9cNcXZf6X6d"
      },
      "source": [
        "number of examples : 2065<br>\n",
        "percentage of positive example : 52.54237288135593 %, number of examples : 1085<br>\n",
        "percentage of negative example : 47.45762711864407%, number of examples : 980"
      ]
    },
    {
      "cell_type": "code",
      "metadata": {
        "id": "loC8CPpH63A3"
      },
      "source": [
        ""
      ],
      "execution_count": null,
      "outputs": []
    }
  ]
}